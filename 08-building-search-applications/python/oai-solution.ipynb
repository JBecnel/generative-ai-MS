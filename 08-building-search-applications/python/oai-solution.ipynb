{
 "cells": [
  {
   "cell_type": "markdown",
   "metadata": {},
   "source": [
    "In order to run the following noteboooks, if you haven't done yet, you need to set the openai key inside .env file as `OPENAI_API_KEY`"
   ]
  },
  {
   "cell_type": "code",
   "execution_count": 1,
   "metadata": {},
   "outputs": [],
   "source": [
    "import os\n",
    "import pandas as pd\n",
    "import numpy as np\n",
    "from openai import OpenAI\n",
    "from dotenv import load_dotenv\n",
    "\n",
    "load_dotenv()\n",
    "\n",
    "API_KEY = os.getenv(\"OPENAI_API_KEY\",\"\")\n",
    "assert API_KEY, \"ERROR: OpenAI Key is missing\"\n",
    "\n",
    "client = OpenAI(\n",
    "    api_key=API_KEY\n",
    "    )\n",
    "\n",
    "model = 'text-embedding-ada-002'\n",
    "\n",
    "SIMILARITIES_RESULTS_THRESHOLD = 0.75\n",
    "DATASET_NAME = \"../embedding_index_3m.json\""
   ]
  },
  {
   "cell_type": "markdown",
   "metadata": {},
   "source": [
    "Next, we are going to load the Embedding Index into a Pandas Dataframe. The Embedding Index is stored in a JSON file called `embedding_index_3m.json`. The Embedding Index contains the Embeddings for each of the YouTube transcripts up until late Oct 2023."
   ]
  },
  {
   "cell_type": "code",
   "execution_count": 5,
   "metadata": {},
   "outputs": [],
   "source": [
    "def load_dataset(source: str) -> pd.core.frame.DataFrame:\n",
    "    # Load the video session index\n",
    "    pd_vectors = pd.read_json(source)\n",
    "    print(pd_vectors.head())\n",
    "    return pd_vectors.drop(columns=[\"text\"], errors=\"ignore\").fillna(\"\")"
   ]
  },
  {
   "cell_type": "code",
   "execution_count": null,
   "metadata": {},
   "outputs": [
    {
     "ename": "NameError",
     "evalue": "name 'source' is not defined",
     "output_type": "error",
     "traceback": [
      "\u001b[0;31m---------------------------------------------------------------------------\u001b[0m",
      "\u001b[0;31mNameError\u001b[0m                                 Traceback (most recent call last)",
      "Cell \u001b[0;32mIn[6], line 1\u001b[0m\n\u001b[0;32m----> 1\u001b[0m pd_vectors \u001b[38;5;241m=\u001b[39m pd\u001b[38;5;241m.\u001b[39mread_json(\u001b[43msource\u001b[49m)\n",
      "\u001b[0;31mNameError\u001b[0m: name 'source' is not defined"
     ]
    }
   ],
   "source": []
  },
  {
   "cell_type": "markdown",
   "metadata": {},
   "source": [
    "Next, we are going to create a function called `get_videos` that will search the Embedding Index for the query. The function will return the top 5 videos that are most similar to the query. The function works as follows:\n",
    "\n",
    "1. First, a copy of the Embedding Index is created.\n",
    "2. Next, the Embedding for the query is calculated using the OpenAI Embedding API.\n",
    "3. Then a new column is created in the Embedding Index called `similarity`. The `similarity` column contains the cosine similarity between the query Embedding and the Embedding for each video segment.\n",
    "4. Next, the Embedding Index is filtered by the `similarity` column. The Embedding Index is filtered to only include videos that have a cosine similarity greater than or equal to 0.75.\n",
    "5. Finally, the Embedding Index is sorted by the `similarity` column and the top 5 videos are returned."
   ]
  },
  {
   "cell_type": "code",
   "execution_count": 7,
   "metadata": {},
   "outputs": [],
   "source": [
    "def cosine_similarity(a, b):\n",
    "    return np.dot(a, b) / (np.linalg.norm(a) * np.linalg.norm(b))\n",
    "\n",
    "def get_videos(\n",
    "    query: str, dataset: pd.core.frame.DataFrame, rows: int\n",
    ") -> pd.core.frame.DataFrame:\n",
    "    # create a copy of the dataset\n",
    "    video_vectors = dataset.copy()\n",
    "\n",
    "    # get the embeddings for the query    \n",
    "    query_embeddings = client.embeddings.create(input=query, model=model).data[0].embedding\n",
    "\n",
    "    # create a new column with the calculated similarity for each row\n",
    "    video_vectors[\"similarity\"] = video_vectors[\"ada_v2\"].apply(\n",
    "        lambda x: cosine_similarity(np.array(query_embeddings), np.array(x))\n",
    "    )\n",
    "\n",
    "    # filter the videos by similarity\n",
    "    mask = video_vectors[\"similarity\"] >= SIMILARITIES_RESULTS_THRESHOLD\n",
    "    video_vectors = video_vectors[mask].copy()\n",
    "\n",
    "    # sort the videos by similarity\n",
    "    video_vectors = video_vectors.sort_values(by=\"similarity\", ascending=False).head(\n",
    "        rows\n",
    "    )\n",
    "\n",
    "    # return the top rows\n",
    "    return video_vectors.head(rows)"
   ]
  },
  {
   "cell_type": "markdown",
   "metadata": {},
   "source": [
    "This function is very simple, it just prints out the results of the search query."
   ]
  },
  {
   "cell_type": "code",
   "execution_count": 8,
   "metadata": {},
   "outputs": [],
   "source": [
    "def display_results(videos: pd.core.frame.DataFrame, query: str):\n",
    "    def _gen_yt_url(video_id: str, seconds: int) -> str:\n",
    "        \"\"\"convert time in format 00:00:00 to seconds\"\"\"\n",
    "        return f\"https://youtu.be/{video_id}?t={seconds}\"\n",
    "\n",
    "    print(f\"\\nVideos similar to '{query}':\")\n",
    "    for _, row in videos.iterrows():\n",
    "        youtube_url = _gen_yt_url(row[\"videoId\"], row[\"seconds\"])\n",
    "        print(f\" - {row['title']}\")\n",
    "        print(f\"   Summary: {' '.join(row['summary'].split()[:15])}...\")\n",
    "        print(f\"   YouTube: {youtube_url}\")\n",
    "        print(f\"   Similarity: {row['similarity']}\")\n",
    "        print(f\"   Speakers: {row['speaker']}\")"
   ]
  },
  {
   "cell_type": "markdown",
   "metadata": {},
   "source": [
    "1. First, the Embedding Index is loaded into a Pandas Dataframe.\n",
    "2. Next, the user is prompted to enter a query.\n",
    "3. Then the `get_videos` function is called to search the Embedding Index for the query.\n",
    "4. Finally, the `display_results` function is called to display the results to the user.\n",
    "5. The user is then prompted to enter another query. This process continues until the user enters `exit`.\n",
    "\n",
    "![](../images/notebook-search.png?WT.mc_id=academic-105485-koreyst)\n",
    "\n",
    "You will be prompted to enter a query. Enter a query and press enter. The application will return a list of videos that are relevant to the query. The application will also return a link to the place in the video where the answer to the question is located.\n",
    "\n",
    "Here are some queries to try out:\n",
    "\n",
    "- What is Azure Machine Learning?\n",
    "- How do convolutional neural networks work?\n",
    "- What is a neural network?\n",
    "- Can I use Jupyter Notebooks with Azure Machine Learning?\n",
    "- What is ONNX?"
   ]
  },
  {
   "cell_type": "code",
   "execution_count": null,
   "metadata": {},
   "outputs": [
    {
     "name": "stdout",
     "output_type": "stream",
     "text": [
      "                                 speaker  \\\n",
      "0  Seth Juarez, Josh Lovejoy, Sarah Bird   \n",
      "1  Seth Juarez, Josh Lovejoy, Sarah Bird   \n",
      "2  Seth Juarez, Josh Lovejoy, Sarah Bird   \n",
      "3  Seth Juarez, Josh Lovejoy, Sarah Bird   \n",
      "4  Seth Juarez, Josh Lovejoy, Sarah Bird   \n",
      "\n",
      "                                               title      videoId     start  \\\n",
      "0  You're Not Solving the Problem You Think You'r...  -tJQm4mSh1s  00:00:00   \n",
      "1  You're Not Solving the Problem You Think You'r...  -tJQm4mSh1s  00:03:07   \n",
      "2  You're Not Solving the Problem You Think You'r...  -tJQm4mSh1s  00:06:13   \n",
      "3  You're Not Solving the Problem You Think You'r...  -tJQm4mSh1s  00:09:21   \n",
      "4  You're Not Solving the Problem You Think You'r...  -tJQm4mSh1s  00:12:24   \n",
      "\n",
      "   seconds                                            summary  \\\n",
      "0        0  Join Seth Juarez as he discusses ethical conce...   \n",
      "1      187  In this video, the speaker discusses the chall...   \n",
      "2      373  The video discusses the limitations of general...   \n",
      "3      561  The video discusses the importance of consider...   \n",
      "4      744  The video discusses the importance of understa...   \n",
      "\n",
      "                                              ada_v2  \n",
      "0  [0.004357332363724, -0.028409153223037, 0.0111...  \n",
      "1  [-0.0038613036740570003, -0.004626247566193000...  \n",
      "2  [0.00287682027556, -0.012365541420876001, 0.02...  \n",
      "3  [0.015913352370262, 0.000721095071639, 0.02349...  \n",
      "4  [5.447878720588051e-06, -0.011837740428745, 0....  \n",
      "\n",
      "Videos similar to 'What is Azure machine learning?':\n",
      " - What’s new with Azure Machine Learning\n",
      "   Summary: Azure Machine Learning is a powerful tool for training and deploying machine learning models. It...\n",
      "   YouTube: https://youtu.be/YlWCeY_CWEg?t=914\n",
      "   Similarity: 0.8755864801400667\n",
      "   Speakers: Chris\n",
      " - Time Series Forecasting with Azure Machine Learning\n",
      "   Summary: In this video, the speaker discusses time series forecasting with Azure Machine Learning. They demonstrate...\n",
      "   YouTube: https://youtu.be/mGr_c2UnOUI?t=7\n",
      "   Similarity: 0.8754771547618032\n",
      "   Speakers: Hi, everyone. In this video, we are going to talk about time series forecasting with Azure Machine Learning.\n",
      " - Azure Machine Learning Studio\n",
      "   Summary: Stephanie Lindsay, a Program Manager at Azure Machine Learning, introduces the new Azure Machine Learning...\n",
      "   YouTube: https://youtu.be/JNa4VV0d8T0?t=0\n",
      "   Similarity: 0.8744371635827164\n",
      "   Speakers: Stephanie Lindsay\n",
      " - Get Started with Azure Machine Learning with Visual Studio Code Tools\n",
      "   Summary: In this episode of the AI Show, Chris, a Program Manager in Azure AI Team,...\n",
      "   YouTube: https://youtu.be/u5tqeLAWLPU?t=0\n",
      "   Similarity: 0.8702779298514063\n",
      "   Speakers: Chris\n",
      " - Introduction to Azure ML Services [Part 1/4]\n",
      "   Summary: Parashar Sha introduces Azure ML Services in this episode of the AI Show. Azure ML...\n",
      "   YouTube: https://youtu.be/Eb7kyOJe5Kc?t=0\n",
      "   Similarity: 0.8690636407566218\n",
      "   Speakers: Parashar Sha\n",
      "\n",
      "Videos similar to 'What is machine learning?':\n",
      " - An Intuitive Approach to Machine Learning Models (Part 1 of 4)\n",
      "   Summary: Artificial intelligence (AI) and machine learning (ML) are often misunderstood concepts. AI can be thought...\n",
      "   YouTube: https://youtu.be/lPyK38sRWLI?t=184\n",
      "   Similarity: 0.8614799311568655\n",
      "   Speakers: Seth, Seth Juarez\n",
      " - Machine Learning Models\n",
      "   Summary: In this episode of the AI show, Seth Juarez explains machine learning models and how...\n",
      "   YouTube: https://youtu.be/gc56tEmbZ1E?t=0\n",
      "   Similarity: 0.8551771292576149\n",
      "   Speakers: Seth Juarez\n",
      " - Automation to accelerate apply and outperform your machine learning models\n",
      "   Summary: Nilesh Acharya, a Senior Program Manager at Microsoft, explains how automated machine learning (AutoML) can...\n",
      "   YouTube: https://youtu.be/l8c-4iDPE0M?t=0\n",
      "   Similarity: 0.8551313267194416\n",
      "   Speakers: Nilesh Acharya\n",
      " - Learn how to be a ML Hero using AutoML\n",
      "   Summary: Aniththa Umamahesan, a Program Manager on the Azure Machine Learning Team at Microsoft, explains how...\n",
      "   YouTube: https://youtu.be/vCVsrP1NLuw?t=1\n",
      "   Similarity: 0.8512712835508706\n",
      "   Speakers: Aniththa Umamahesan\n",
      " - An Intuitive Approach to Machine Learning Models (Part 1 of 4)\n",
      "   Summary: Seth Juarez presents an introduction to deep learning in this four-part series. In part one,...\n",
      "   YouTube: https://youtu.be/lPyK38sRWLI?t=0\n",
      "   Similarity: 0.8502149051316441\n",
      "   Speakers: Seth, Seth Juarez\n"
     ]
    }
   ],
   "source": [
    "pd_vectors = load_dataset(DATASET_NAME)\n",
    "\n",
    "# get user query from imput\n",
    "while True:\n",
    "    query = input(\"Enter a query: \")\n",
    "    if query == \"exit\":\n",
    "        break\n",
    "    videos = get_videos(query, pd_vectors, 5)\n",
    "    display_results(videos, query)"
   ]
  },
  {
   "cell_type": "markdown",
   "metadata": {},
   "source": []
  }
 ],
 "metadata": {
  "kernelspec": {
   "display_name": "Python 3",
   "language": "python",
   "name": "python3"
  },
  "language_info": {
   "codemirror_mode": {
    "name": "ipython",
    "version": 3
   },
   "file_extension": ".py",
   "mimetype": "text/x-python",
   "name": "python",
   "nbconvert_exporter": "python",
   "pygments_lexer": "ipython3",
   "version": "3.10.13"
  }
 },
 "nbformat": 4,
 "nbformat_minor": 2
}
