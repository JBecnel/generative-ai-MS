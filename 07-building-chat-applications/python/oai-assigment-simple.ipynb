{
 "cells": [
  {
   "cell_type": "code",
   "execution_count": 1,
   "metadata": {},
   "outputs": [],
   "source": [
    "import os\n",
    "from openai import OpenAI\n",
    "from dotenv import load_dotenv\n",
    "\n",
    "load_dotenv()\n",
    "\n",
    "API_KEY = os.getenv(\"OPENAI_API_KEY\",\"\").strip()\n",
    "assert API_KEY, \"ERROR: OpenAI Key is missing\"\n",
    "client = OpenAI(\n",
    "    api_key=API_KEY\n",
    "    )\n",
    "\n",
    "model = \"gpt-3.5-turbo\" "
   ]
  },
  {
   "cell_type": "code",
   "execution_count": 2,
   "metadata": {},
   "outputs": [
    {
     "data": {
      "text/plain": [
       "\"There are many potential causes of foot pain, including:\\n\\n1. Plantar fasciitis: Inflammation of the band of tissue that runs along the bottom of your foot.\\n2. Stress fractures: Small cracks in the bones of the foot, often caused by repetitive stress or overuse.\\n3. Achilles tendonitis: Inflammation of the Achilles tendon, which connects your calf muscles to your heel bone.\\n4. Morton's neuroma: Thickening of tissue around a nerve in the ball of the foot.\\n5. Bursitis: Inflammation of the fluid-filled sacs that cushion the joints.\\n6. Arthritis: Inflammation of the joints in the foot.\\n7. Tendonitis: Inflammation of the tendons in the foot.\\n8. Sprains or strains: Stretching or tearing of ligaments or muscles in the foot.\\n\\nIt's important to see a doctor for an accurate diagnosis and appropriate treatment. Based on your symptoms and a physical examination, your doctor may recommend imaging tests such as X-rays or MRI to further evaluate the problem. Treatment options may include rest, ice, compression, elevation, physical therapy, medication, or, in some cases, surgery.\""
      ]
     },
     "execution_count": 2,
     "metadata": {},
     "output_type": "execute_result"
    }
   ],
   "source": [
    "# Create your first prompt\n",
    "text_prompt = \" My foot hurts, what can be wrong?\"\n",
    "\n",
    "response = client.chat.completions.create(\n",
    "  model=model,\n",
    "  messages = [\n",
    "      {\"role\":\"system\", \"content\":\"I'm a doctor, specialist on surgery\"},\n",
    "      {\"role\":\"user\",\"content\":text_prompt},])\n",
    "\n",
    "response.choices[0].message.content"
   ]
  }
 ],
 "metadata": {
  "kernelspec": {
   "display_name": "Python 3",
   "language": "python",
   "name": "python3"
  },
  "language_info": {
   "codemirror_mode": {
    "name": "ipython",
    "version": 3
   },
   "file_extension": ".py",
   "mimetype": "text/x-python",
   "name": "python",
   "nbconvert_exporter": "python",
   "pygments_lexer": "ipython3",
   "version": "3.10.13"
  },
  "orig_nbformat": 4
 },
 "nbformat": 4,
 "nbformat_minor": 2
}
